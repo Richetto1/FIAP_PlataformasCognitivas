{
  "nbformat": 4,
  "nbformat_minor": 0,
  "metadata": {
    "colab": {
      "provenance": [],
      "include_colab_link": true
    },
    "kernelspec": {
      "name": "python3",
      "display_name": "Python 3"
    },
    "language_info": {
      "name": "python"
    }
  },
  "cells": [
    {
      "cell_type": "markdown",
      "metadata": {
        "id": "view-in-github",
        "colab_type": "text"
      },
      "source": [
        "<a href=\"https://colab.research.google.com/github/Richetto1/FIAP_PlataformasCognitivas/blob/main/O_vendedor_de_Pirozhki_1.ipynb\" target=\"_parent\"><img src=\"https://colab.research.google.com/assets/colab-badge.svg\" alt=\"Open In Colab\"/></a>"
      ]
    },
    {
      "cell_type": "markdown",
      "source": [
        "# CASE: O vendedor de Pirozhki\n",
        "\n",
        "\n",
        "Vladimir Sidorov desistiu de seu trabalho convencional na KGB e decidiu empreender em 2010 no ramo alimentício. Com suas economias abriu um foodtruck no bairro do Ipiranga – SP especializado na venda de Pirozhki, onde seu grande diferencial era trabalhar com ingredientes importados dando uma qualidade extraordinária ao produto. Após o crescimento das vendas, a modalidade delivery foi implementada para auxiliar a empresa. Vladimir era extremamente popular no bairro, todos o conheciam, mas em 2019 se mudou para um ponto melhor e não tivemos mais notícia. Os últimos dados compartilhados das vendas de Vlad foram disponibilizados antes de sua partida.\n"
      ],
      "metadata": {
        "id": "HXZSC_Ob3Zrd"
      }
    },
    {
      "cell_type": "code",
      "source": [
        "anos = [2010, 2011, 2012, 2014, 2017, 2018, 2019]\n",
        "vendas = [723, 814, 905, 1087, 1360, 1451, 1542]"
      ],
      "metadata": {
        "id": "H6qSt8nv3de1"
      },
      "execution_count": 11,
      "outputs": []
    },
    {
      "cell_type": "code",
      "source": [
        "def CalcularCoeAn(anos, vendas) -> float:\n",
        "\n",
        "  mean_anos = sum(anos) / len(anos)\n",
        "  mean_vendas = sum(vendas) / len(vendas)\n",
        "\n",
        "  numerator = sum((anos[i] - mean_anos) * (vendas[i] - mean_vendas) for i in range(len(anos)))\n",
        "  denominator = sum((anos[i] - mean_anos) ** 2 for i in range(len(anos)))\n",
        "\n",
        "  m = numerator / denominator\n",
        "  return print(f\"O Coeficiente Angular é de: {m:.1f}\")\n",
        "\n",
        ""
      ],
      "metadata": {
        "id": "s6-kVkwOCIly"
      },
      "execution_count": 60,
      "outputs": []
    },
    {
      "cell_type": "code",
      "source": [
        "def CalcularVendas(anodesejado) -> None:\n",
        "\n",
        "  mean_anos = sum(anos) / len(anos)\n",
        "  mean_vendas = sum(vendas) / len(vendas)\n",
        "\n",
        "  numerator = sum((anos[i] - mean_anos) * (vendas[i] - mean_vendas) for i in range(len(anos)))\n",
        "  denominator = sum((anos[i] - mean_anos) ** 2 for i in range(len(anos)))\n",
        "\n",
        "  m = numerator / denominator\n",
        "\n",
        "  b = mean_vendas - m * mean_anos\n",
        "  y = m*anodesejado+b\n",
        "\n",
        "  return print(f\"O valor de vendas no ano de {anodesejado} é de: {y:.0f}\")\n",
        "\n"
      ],
      "metadata": {
        "id": "Kip85_H2ACaj"
      },
      "execution_count": 72,
      "outputs": []
    },
    {
      "cell_type": "markdown",
      "source": [
        "\n",
        "\n",
        "1.   Dado o problema acima, qual o melhor algoritmo para descobrir os dados de 2015?\n",
        "2.   Qual coeficiente angular?\n",
        "3.   Considerando uma perspectiva estatística, qual o total de venda em 2020 (Apresentar valores)?\n",
        "4. Considerando uma perspectiva estatística, qual o total de venda em 2021 (Apresentar valores)?\n",
        "5. Desenvolva um código em python que calcule estatisticamente as vendas em qualquer ano desejado\n",
        "6. Considerando sua opinião, qual o total de venda em 2021?\n",
        "7. Considerando sua opinião, qual o total de venda em 2023?\n",
        "\n"
      ],
      "metadata": {
        "id": "jmbpy-k73f90"
      }
    },
    {
      "cell_type": "markdown",
      "source": [
        "*   Nome:  Guilherme Richetto de Souza\n",
        "*   RM:    550407\n",
        "*   Nome:  Matheus Oliveira de Andrade\n",
        "*   RM:    550149\n",
        "\n",
        "\n"
      ],
      "metadata": {
        "id": "15eD6keogGxI"
      }
    },
    {
      "cell_type": "markdown",
      "source": [
        "##1. Dado o problema acima, qual o melhor algoritmo para descobrir os dados de 2015?\n",
        "####R: Ao analisarmos o problema, vimos que optar por um algoritmo de regressão linear seria o mais adequado, modelando uma relação entre tempo (neste caso, uma variável independente) e vendas (variável dependente), para assim poder realizar as previsões que o \"case\" pede."
      ],
      "metadata": {
        "id": "38Fw6zjJp1op"
      }
    },
    {
      "cell_type": "code",
      "source": [
        "#2. Qual coeficiente angular?\n",
        "CalcularCoeAn(anos, vendas)"
      ],
      "metadata": {
        "colab": {
          "base_uri": "https://localhost:8080/"
        },
        "id": "BZIZcC2OOK3d",
        "outputId": "a9f41124-f2dd-4ac5-dea6-299a34c4df2a"
      },
      "execution_count": 50,
      "outputs": [
        {
          "output_type": "stream",
          "name": "stdout",
          "text": [
            "O Coeficiente Angular é de: 91.0\n"
          ]
        }
      ]
    },
    {
      "cell_type": "code",
      "source": [
        "#3. Considerando uma perspectiva estatística, qual o total de venda em 2020 (Apresentar valores)?\n",
        "anodesejado = 2020\n",
        "CalcularCoeAn(anos, vendas)\n",
        "CalcularVendas(anodesejado)"
      ],
      "metadata": {
        "colab": {
          "base_uri": "https://localhost:8080/"
        },
        "id": "HvgF-bcKO2EU",
        "outputId": "b38539eb-c9c6-41e5-8044-743ed56d4c11"
      },
      "execution_count": 73,
      "outputs": [
        {
          "output_type": "stream",
          "name": "stdout",
          "text": [
            "O Coeficiente Angular é de: 91.0\n",
            "O valor de vendas no ano de 2020 é de: 1633\n"
          ]
        }
      ]
    },
    {
      "cell_type": "code",
      "source": [
        "#4. Considerando uma perspectiva estatística, qual o total de venda em 2020 (Apresentar valores)?\n",
        "anodesejado = 2021\n",
        "CalcularCoeAn(anos, vendas)\n",
        "CalcularVendas(anodesejado)"
      ],
      "metadata": {
        "colab": {
          "base_uri": "https://localhost:8080/"
        },
        "id": "YbRjQeJ-O2Wb",
        "outputId": "dbad378c-cb8d-41d5-91d2-d91dfe20825d"
      },
      "execution_count": 75,
      "outputs": [
        {
          "output_type": "stream",
          "name": "stdout",
          "text": [
            "O Coeficiente Angular é de: 91.0\n",
            "O valor de vendas no ano de 2021 é de: 1724\n"
          ]
        }
      ]
    },
    {
      "cell_type": "code",
      "source": [
        "#5 Desenvolva um código em python que calcule estatisticamente as vendas em qualquer ano desejado\n",
        "while True:\n",
        "  print(\"\"\"\n",
        "  1- Calcular Ano\n",
        "  0- Sair\n",
        "  \"\"\")\n",
        "  opcao = int(input(\"Escolha uma opção: \"))\n",
        "\n",
        "  match opcao:\n",
        "    case 0:\n",
        "      break\n",
        "    case 1:\n",
        "      if opcao > 1:\n",
        "        print('Valor inválido!')\n",
        "        continue\n",
        "      else:\n",
        "        anodesejado = int(input(\"Qual ano deseja calcular?: \"))\n",
        "        CalcularCoeAn(anos, vendas)\n",
        "        CalcularVendas(anodesejado)"
      ],
      "metadata": {
        "colab": {
          "base_uri": "https://localhost:8080/"
        },
        "id": "EeQyvKWuNaZ1",
        "outputId": "d59e85b3-51e7-4e87-ece3-73ea3466410d"
      },
      "execution_count": 98,
      "outputs": [
        {
          "name": "stdout",
          "output_type": "stream",
          "text": [
            "\n",
            "  1- Calcular Ano\n",
            "  0- Sair\n",
            "  \n",
            "Escolha uma opção: 1\n",
            "Qual ano deseja calcular?: 2022\n",
            "O Coeficiente Angular é de: 91.0\n",
            "O valor de vendas no ano de 2022 é de: 1815\n",
            "\n",
            "  1- Calcular Ano\n",
            "  0- Sair\n",
            "  \n",
            "Escolha uma opção: 1\n",
            "Qual ano deseja calcular?: 2023\n",
            "O Coeficiente Angular é de: 91.0\n",
            "O valor de vendas no ano de 2023 é de: 1906\n",
            "\n",
            "  1- Calcular Ano\n",
            "  0- Sair\n",
            "  \n",
            "Escolha uma opção: 0\n"
          ]
        }
      ]
    },
    {
      "cell_type": "markdown",
      "source": [
        "#6. Considerando sua opinião, qual o total de venda em 2021?\n",
        "R: Nós acreditamos que às vendas no ano de 2021 tenham caído em relação ao ano de 2019 e 2020, por conta da mudança de região onde elas aconteceriam, mesmo sendo um ponto melhor teria de operar o negócio com sua popularidade, no novo local, consideravelmente reduzida. Levamos em consideração que é um ano de pandemia, com todo o lance de isolamente social e do \"#FicaEmCasa\", provavelmente vendas vindas pelo foodtruck seriam menores que as pelo metodo delivery. Logo o número de vendas rondariam em uma média apróximada de 1100 há 1400"
      ],
      "metadata": {
        "id": "HGJa-DErqf2p"
      }
    },
    {
      "cell_type": "markdown",
      "source": [
        "#7. Considerando sua opinião, qual o total de venda em 2023?\n",
        "R: Baseando nas considerações que foram feitas no exercício anterior, existem fatores que podemos levar à crença de que as vendas tenham crescido de modo exponêncial no período pós pandemia, mas em 2023, após os números aumentarem, provávelmente os números irão se manter aproximados, variando entre aproximadamente 1500 e 1900, não fugindo muito dessas métricas.\n"
      ],
      "metadata": {
        "id": "9sbRhOl2rrTE"
      }
    }
  ]
}